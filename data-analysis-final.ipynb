{
 "cells": [
  {
   "cell_type": "markdown",
   "metadata": {},
   "source": [
    "## Data analysis"
   ]
  },
  {
   "cell_type": "code",
   "execution_count": 239,
   "metadata": {
    "collapsed": true
   },
   "outputs": [],
   "source": [
    "import re\n",
    "import csv\n",
    "import pandas as pd\n",
    "import numpy as np\n",
    "import statsmodels.api as sm\n",
    "import statsmodels.formula.api as smf\n",
    "import patsy\n",
    "import seaborn as sns\n",
    "from seaborn import plt\n",
    "from sklearn.model_selection import train_test_split\n",
    "from sklearn.linear_model import LinearRegression, Lasso, LassoCV\n",
    "from sklearn.linear_model import RidgeCV\n",
    "from sklearn.ensemble import RandomForestRegressor\n",
    "import dateutil.parser\n",
    "from sklearn import linear_model,ensemble, tree, model_selection\n",
    "\n",
    "\n",
    "%matplotlib inline\n",
    "\n",
    "\n"
   ]
  },
  {
   "cell_type": "code",
   "execution_count": 845,
   "metadata": {
    "collapsed": false
   },
   "outputs": [],
   "source": [
    "with open('master.csv', 'r') as f:\n",
    "    reader = csv.reader(f)\n",
    "    df = list(reader)\n",
    "df=pd.DataFrame(df)  \n",
    "df.columns = df.iloc[0]\n",
    "df = df[1:]\n",
    "\n",
    "df.columns=['street address', 'city', 'state', 'zip', 'bed', 'bath', 'sqft', 'type',\n",
    "       'year-built', 'heating', 'cooling', 'parking', 'lot', 'school1',\n",
    "       'school2', 'school3', 'grade1', 'grade2', 'grade3', 'rate1', 'rate2',\n",
    "       'rate3', 'sold-price', 'sold-date', 'url']\n"
   ]
  },
  {
   "cell_type": "code",
   "execution_count": 847,
   "metadata": {
    "collapsed": false
   },
   "outputs": [],
   "source": [
    "#drop duplicates\n",
    "df.drop_duplicates(subset='street address', keep='last', inplace=True)"
   ]
  },
  {
   "cell_type": "code",
   "execution_count": 848,
   "metadata": {
    "collapsed": false
   },
   "outputs": [],
   "source": [
    "#change the school grades\n",
    "df.replace(to_replace=['8-Jun','8-May','12-Jul','K-8'],value='middle',inplace=True)\n",
    "df.replace(to_replace=['12-Sep'],value='high',inplace=True)\n",
    "df.replace(to_replace=['K-5','K-4'],value='elementary',inplace=True)"
   ]
  },
  {
   "cell_type": "code",
   "execution_count": 849,
   "metadata": {
    "collapsed": false
   },
   "outputs": [],
   "source": [
    "df_school_rate=df.loc[:,['rate1','rate2','rate3','grade1','grade2','grade3']]\n",
    "df_school_name=df.loc[:,['school1','school2','school3','grade1','grade2','grade3']]\n",
    "#convert dataframe to a dictionary with keys=variable names, value=variable value\n",
    "df_school_rate_dict=df_school_rate.to_dict(orient='records')\n",
    "df_school_name_dict=df_school_name.to_dict(orient='records')\n"
   ]
  },
  {
   "cell_type": "code",
   "execution_count": 850,
   "metadata": {
    "collapsed": false
   },
   "outputs": [],
   "source": [
    "#function that turns original values of the dictionary to keys (elementary, middle, high), and values are rating or school name\n",
    "def fix_rates(dictionary):\n",
    "    lst=[]\n",
    "    for i in dictionary:\n",
    "        d={}\n",
    "        d[i['grade1']]=i['rate1']\n",
    "        d[i['grade2']]=i['rate2']\n",
    "        d[i['grade3']]=i['rate3']\n",
    "        lst.append(d)\n",
    "    return lst\n",
    "\n",
    "def fix_schools(dictionary):\n",
    "    lst=[]\n",
    "    for i in dictionary:\n",
    "        d={}\n",
    "        d[i['grade1']]=i['school1']\n",
    "        d[i['grade2']]=i['school2']\n",
    "        d[i['grade3']]=i['school3']\n",
    "        lst.append(d)\n",
    "    return lst\n",
    "        "
   ]
  },
  {
   "cell_type": "code",
   "execution_count": 851,
   "metadata": {
    "collapsed": true
   },
   "outputs": [],
   "source": [
    "#append the columns to df\n",
    "rate=pd.DataFrame(fix_rates(df_school_rate_dict))\n",
    "df['elementary-rate']=list(rate['elementary'])\n",
    "df['middle-rate']=list(rate['middle'])\n",
    "df['high-rate']=list(rate['high'])\n",
    "\n",
    "school=pd.DataFrame(fix_schools(df_school_name_dict))\n",
    "df['elementary']=list(school['elementary'])\n",
    "df['middle']=list(school['middle'])\n",
    "df['high']=list(school['high'])\n"
   ]
  },
  {
   "cell_type": "code",
   "execution_count": 852,
   "metadata": {
    "collapsed": false
   },
   "outputs": [],
   "source": [
    "#convert sqft into integer\n",
    "sqft=[]\n",
    "for i in df.sqft:\n",
    "    try:\n",
    "        sqft.append(int(i.replace(',', '')))\n",
    "    except ValueError:\n",
    "        sqft.append(float('nan'))\n",
    "df.sqft=sqft \n",
    "\n",
    "#convert bed and bath to int\n",
    "bed=pd.to_numeric(df.bed, errors='coerce')\n",
    "df.bed=bed\n",
    "bath=pd.to_numeric(df.bath, errors='coerce')\n",
    "df.bath=bath\n",
    "\n",
    "#convert year-built to int\n",
    "built=pd.to_numeric(df['year-built'], errors='coerce')\n",
    "df['year-built']=built\n",
    "\n",
    "#convert sold-price into int\n",
    "sold=pd.to_numeric(df['sold-price'], errors='coerce')\n",
    "df['sold-price']=sold\n",
    "\n",
    "#convert schoolrate into int\n",
    "rate1=pd.to_numeric(df['elementary-rate'], errors='coerce')\n",
    "df['elementary-rate']=rate1\n",
    "rate2=pd.to_numeric(df['middle-rate'], errors='coerce')\n",
    "df['middle-rate']=rate2\n",
    "rate3=pd.to_numeric(df['high-rate'], errors='coerce')\n",
    "df['high-rate']=rate3\n"
   ]
  },
  {
   "cell_type": "code",
   "execution_count": 853,
   "metadata": {
    "collapsed": false
   },
   "outputs": [],
   "source": [
    "#convert lotsize to int\n",
    "#get rid of the sqft\n",
    "lot=[]\n",
    "for i in df.lot:\n",
    "    lot.append(i.split(' ')[0].replace(',', ''))\n",
    "#change the houses with HOA payment to lotsize 0\n",
    "for i in range(0,len(lot)):\n",
    "    if '$' in lot[i]:\n",
    "        lot[i]='0'\n",
    "#convert acres into sqft\n",
    "for i in range(0,len(lot)):\n",
    "    if '.' in lot[i]:\n",
    "        lot[i]=float(lot[i])*43560\n",
    "    elif 'No' in lot[i]:\n",
    "        lot[i]='0'\n",
    "for i in range(0,len(lot)):\n",
    "    lot[i]=int(lot[i])\n",
    "df.lot=lot"
   ]
  },
  {
   "cell_type": "code",
   "execution_count": 854,
   "metadata": {
    "collapsed": true
   },
   "outputs": [],
   "source": [
    "#change date to ordinal values\n",
    "date=[]\n",
    "for i in df['sold-date']:\n",
    "    date.append(dateutil.parser.parse(i))\n",
    "df['date']=date\n",
    "\n",
    "#converts to ordinal date\n",
    "df['dateordinal']=df['date'].apply(lambda x: x.toordinal())\n",
    "\n",
    "#plt.plot(df.date,df['sold-price'])"
   ]
  },
  {
   "cell_type": "code",
   "execution_count": 855,
   "metadata": {
    "collapsed": false
   },
   "outputs": [
    {
     "data": {
      "text/html": [
       "<div>\n",
       "<table border=\"1\" class=\"dataframe\">\n",
       "  <thead>\n",
       "    <tr style=\"text-align: right;\">\n",
       "      <th></th>\n",
       "      <th>zip</th>\n",
       "      <th>sold-price</th>\n",
       "    </tr>\n",
       "  </thead>\n",
       "  <tbody>\n",
       "    <tr>\n",
       "      <th>1</th>\n",
       "      <td>95051</td>\n",
       "      <td>1033427</td>\n",
       "    </tr>\n",
       "    <tr>\n",
       "      <th>2</th>\n",
       "      <td>95117</td>\n",
       "      <td>950701</td>\n",
       "    </tr>\n",
       "    <tr>\n",
       "      <th>0</th>\n",
       "      <td>95050</td>\n",
       "      <td>915057</td>\n",
       "    </tr>\n",
       "  </tbody>\n",
       "</table>\n",
       "</div>"
      ],
      "text/plain": [
       "     zip  sold-price\n",
       "1  95051     1033427\n",
       "2  95117      950701\n",
       "0  95050      915057"
      ]
     },
     "execution_count": 855,
     "metadata": {},
     "output_type": "execute_result"
    }
   ],
   "source": [
    "#create dummies for zipcode\n",
    "df.groupby(['zip'])[['sold-price']].mean().reset_index().sort_values(['sold-price'], ascending=False)"
   ]
  },
  {
   "cell_type": "code",
   "execution_count": 856,
   "metadata": {
    "collapsed": true
   },
   "outputs": [],
   "source": [
    "df.replace(to_replace=['95051'],value=2,inplace=True)\n",
    "df.replace(to_replace=['95117'],value=1,inplace=True)\n",
    "df.replace(to_replace=['95050'],value=0,inplace=True)"
   ]
  },
  {
   "cell_type": "code",
   "execution_count": 857,
   "metadata": {
    "collapsed": true
   },
   "outputs": [],
   "source": [
    "df=df[df.type!='Miscellaneous']\n",
    "df=df[df.type!='Other']"
   ]
  },
  {
   "cell_type": "code",
   "execution_count": 859,
   "metadata": {
    "collapsed": true
   },
   "outputs": [],
   "source": [
    "# drop nan values\n",
    "df=df.dropna(how ='any')\n",
    "#drop the outliers in the prices\n",
    "df=df[df['sold-price']>=250000]\n",
    "df=df[df['sold-price']<4000000]\n",
    "#drop outliers in lotsize\n",
    "df=df[df['lot']<30000]"
   ]
  },
  {
   "cell_type": "code",
   "execution_count": 860,
   "metadata": {
    "collapsed": false
   },
   "outputs": [
    {
     "data": {
      "text/html": [
       "<div>\n",
       "<table border=\"1\" class=\"dataframe\">\n",
       "  <thead>\n",
       "    <tr style=\"text-align: right;\">\n",
       "      <th></th>\n",
       "      <th>type</th>\n",
       "      <th>sold-price</th>\n",
       "    </tr>\n",
       "  </thead>\n",
       "  <tbody>\n",
       "    <tr>\n",
       "      <th>0</th>\n",
       "      <td>Apartment</td>\n",
       "      <td>1753333</td>\n",
       "    </tr>\n",
       "    <tr>\n",
       "      <th>2</th>\n",
       "      <td>Multi Family</td>\n",
       "      <td>1110980</td>\n",
       "    </tr>\n",
       "    <tr>\n",
       "      <th>4</th>\n",
       "      <td>Single Family</td>\n",
       "      <td>1094791</td>\n",
       "    </tr>\n",
       "    <tr>\n",
       "      <th>3</th>\n",
       "      <td>Multiple Occupancy</td>\n",
       "      <td>932888</td>\n",
       "    </tr>\n",
       "    <tr>\n",
       "      <th>5</th>\n",
       "      <td>Townhouse</td>\n",
       "      <td>827362</td>\n",
       "    </tr>\n",
       "    <tr>\n",
       "      <th>1</th>\n",
       "      <td>Condo</td>\n",
       "      <td>604325</td>\n",
       "    </tr>\n",
       "  </tbody>\n",
       "</table>\n",
       "</div>"
      ],
      "text/plain": [
       "                 type  sold-price\n",
       "0           Apartment     1753333\n",
       "2        Multi Family     1110980\n",
       "4       Single Family     1094791\n",
       "3  Multiple Occupancy      932888\n",
       "5           Townhouse      827362\n",
       "1               Condo      604325"
      ]
     },
     "execution_count": 860,
     "metadata": {},
     "output_type": "execute_result"
    }
   ],
   "source": [
    "#create dummies for house type\n",
    "df.groupby(['type'])[['sold-price']].mean().reset_index().sort_values(['sold-price'], ascending=False)"
   ]
  },
  {
   "cell_type": "code",
   "execution_count": 861,
   "metadata": {
    "collapsed": true
   },
   "outputs": [],
   "source": [
    "df.replace(to_replace=['Apartment'],value=5,inplace=True)\n",
    "df.replace(to_replace=['Single Family'],value=4,inplace=True)\n",
    "df.replace(to_replace=['Multi Family'],value=3,inplace=True)\n",
    "df.replace(to_replace=['Multiple Occupancy'],value=2,inplace=True)\n",
    "df.replace(to_replace=['Townhouse'],value=1,inplace=True)\n",
    "df.replace(to_replace=['Condo'],value=0,inplace=True)\n",
    "\n"
   ]
  },
  {
   "cell_type": "code",
   "execution_count": 862,
   "metadata": {
    "collapsed": false
   },
   "outputs": [],
   "source": [
    "streetnumber=[]\n",
    "for i in df['street address']:\n",
    "    streetnumber.append(int(i.split(' ')[1])%10)\n",
    "df['last street number']=streetnumber"
   ]
  },
  {
   "cell_type": "markdown",
   "metadata": {},
   "source": [
    "## Model 1: Linear Regression"
   ]
  },
  {
   "cell_type": "code",
   "execution_count": 705,
   "metadata": {
    "collapsed": false
   },
   "outputs": [
    {
     "data": {
      "text/plain": [
       "Index(['street address', 'city', 'state', 'zip', 'bed', 'bath', 'sqft', 'type',\n",
       "       'year-built', 'heating', 'cooling', 'parking', 'lot', 'school1',\n",
       "       'school2', 'school3', 'grade1', 'grade2', 'grade3', 'rate1', 'rate2',\n",
       "       'rate3', 'sold-price', 'sold-date', 'url', 'elementary-rate',\n",
       "       'middle-rate', 'high-rate', 'elementary', 'middle', 'high', 'date',\n",
       "       'dateordinal', 'street number', 'last street number'],\n",
       "      dtype='object')"
      ]
     },
     "execution_count": 705,
     "metadata": {},
     "output_type": "execute_result"
    }
   ],
   "source": [
    "df.columns"
   ]
  },
  {
   "cell_type": "code",
   "execution_count": 863,
   "metadata": {
    "collapsed": false
   },
   "outputs": [],
   "source": [
    "smaller_df=df.loc[:,['zip','bed','bath','sqft','type','year-built','lot',\n",
    "                     'elementary-rate','middle-rate', 'high-rate',\n",
    "                     'dateordinal','sold-price','last street number']]"
   ]
  },
  {
   "cell_type": "code",
   "execution_count": 1031,
   "metadata": {
    "collapsed": false
   },
   "outputs": [
    {
     "data": {
      "text/plain": [
       "<seaborn.axisgrid.PairGrid at 0x15d1f3cc0>"
      ]
     },
     "execution_count": 1031,
     "metadata": {},
     "output_type": "execute_result"
    },
    {
     "data": {
      "image/png": "[encoded data removed]",
      "text/plain": [
       "<matplotlib.figure.Figure at 0x15d1f35f8>"
      ]
     },
     "metadata": {},
     "output_type": "display_data"
    }
   ],
   "source": [
    "sns.pairplot(data=df,hue='zip',\n",
    "                  y_vars=['sold-price'],\n",
    "                  x_vars=['bed','bath','sqft','type','year-built','lot',\n",
    "                     'elementary-rate','middle-rate', 'high-rate',\n",
    "                     'dateordinal'])"
   ]
  },
  {
   "cell_type": "code",
   "execution_count": 864,
   "metadata": {
    "collapsed": true
   },
   "outputs": [],
   "source": [
    "#Separate our features from our target\n",
    "#X are the independent variables, y is the dependent variable\n",
    "X=smaller_df.loc[:,['zip','bed','bath','sqft','type','year-built','lot',\n",
    "                     'elementary-rate','middle-rate', 'high-rate',\n",
    "                     'dateordinal','last street number']]\n",
    "\n",
    "y=smaller_df['sold-price']"
   ]
  },
  {
   "cell_type": "markdown",
   "metadata": {},
   "source": [
    "## Split the data into train and test sets\n",
    "Have to put apartments from the same building in the same set"
   ]
  },
  {
   "cell_type": "code",
   "execution_count": 722,
   "metadata": {
    "collapsed": false
   },
   "outputs": [
    {
     "data": {
      "text/plain": [
       "Counter({0: 242,\n",
       "         1: 187,\n",
       "         2: 101,\n",
       "         3: 109,\n",
       "         4: 109,\n",
       "         5: 167,\n",
       "         6: 116,\n",
       "         7: 141,\n",
       "         8: 133,\n",
       "         9: 85})"
      ]
     },
     "execution_count": 722,
     "metadata": {},
     "output_type": "execute_result"
    }
   ],
   "source": [
    "#cheking the occurences of the last digits of street number\n",
    "#random number generator gave out 3 and 8 to be the test set\n",
    "# import collections\n",
    "# collections.Counter(smaller_df['last street number'])"
   ]
  },
  {
   "cell_type": "code",
   "execution_count": 865,
   "metadata": {
    "collapsed": false
   },
   "outputs": [],
   "source": [
    "X_train=smaller_df[(smaller_df['last street number']!=5) & (smaller_df['last street number']!=8) &\n",
    "                   (smaller_df['last street number']!=3)].loc[:,['zip','bed','bath',\n",
    "                                                                 'sqft','type','year-built','lot',\n",
    "                                                                 'elementary-rate','middle-rate', 'high-rate',\n",
    "                                                                 'dateordinal']]\n",
    "y_train=smaller_df[(smaller_df['last street number']!=5)& (smaller_df['last street number']!=8)&\n",
    "                   (smaller_df['last street number']!=3)]['sold-price']\n",
    "X_test=smaller_df[(smaller_df['last street number']==5)| (smaller_df['last street number']==8) |\n",
    "                   (smaller_df['last street number']==3)].loc[:,['zip','bed','bath',\n",
    "                                                                 'sqft','type','year-built','lot','elementary-rate',\n",
    "                                                                 'middle-rate', 'high-rate','dateordinal']]\n",
    "y_test=smaller_df[(smaller_df['last street number']==5)| (smaller_df['last street number']==8)|\n",
    "                   (smaller_df['last street number']==3)]['sold-price']\n"
   ]
  },
  {
   "cell_type": "code",
   "execution_count": 866,
   "metadata": {
    "collapsed": false
   },
   "outputs": [
    {
     "data": {
      "text/plain": [
       "(981, 981, 409, 409)"
      ]
     },
     "execution_count": 866,
     "metadata": {},
     "output_type": "execute_result"
    }
   ],
   "source": [
    "len(X_train), len(y_train), len(X_test), len(y_test)\n"
   ]
  },
  {
   "cell_type": "code",
   "execution_count": 581,
   "metadata": {
    "collapsed": false
   },
   "outputs": [
    {
     "data": {
      "text/plain": [
       "(459, 459, 931, 931)"
      ]
     },
     "execution_count": 581,
     "metadata": {},
     "output_type": "execute_result"
    }
   ],
   "source": [
    "# X_train=smaller_df[(smaller_df.zip==0) | (smaller_df.zip==2)].loc[:,['bed','bath','sqft','type','year-built','lot',\n",
    "#                      'elementary-rate','middle-rate', 'high-rate',\n",
    "#                      'dateordinal']]\n",
    "# y_train=smaller_df[(smaller_df.zip==0) | (smaller_df.zip==2)]['sold-price']\n",
    "# X_test=smaller_df[smaller_df.zip==1].loc[:,['bed','bath','sqft','type','year-built','lot',\n",
    "#                      'elementary-rate','middle-rate', 'high-rate',\n",
    "#                      'dateordinal']]\n",
    "# y_test=smaller_df[smaller_df.zip==1]['sold-price']\n",
    "# len(X_test),len(y_test),len(X_train),len(y_train)"
   ]
  },
  {
   "cell_type": "code",
   "execution_count": 455,
   "metadata": {
    "collapsed": false
   },
   "outputs": [],
   "source": [
    "# Split the data 70-30 train/test\n",
    "# use the train_test_split function from the sklearn, random_state will set the seed\n",
    "\n",
    "# X_train, X_test, y_train, y_test = train_test_split(X, y, test_size=0.3,random_state=42)"
   ]
  },
  {
   "cell_type": "code",
   "execution_count": 1032,
   "metadata": {
    "collapsed": false
   },
   "outputs": [
    {
     "data": {
      "text/plain": [
       "[('zip', 12904.979615445831),\n",
       " ('bed', 8086.6684516229552),\n",
       " ('bath', 19096.360458256193),\n",
       " ('sqft', 348.50534540801857),\n",
       " ('year-built', 386.76375926804269),\n",
       " ('lot', 27.469561475843033),\n",
       " ('elementary-rate', 11193.097404803015),\n",
       " ('middle-rate', 20364.67713556761),\n",
       " ('high-rate', 19564.962325903987),\n",
       " ('dateordinal', 301.38816900869904),\n",
       " ('type', 24863.025126484656)]"
      ]
     },
     "execution_count": 1032,
     "metadata": {},
     "output_type": "execute_result"
    }
   ],
   "source": [
    "\n",
    "selected_columns_1 = ['zip','bed','bath','sqft','year-built','lot','elementary-rate',\n",
    "                      'middle-rate', 'high-rate','dateordinal','type']\n",
    "\n",
    "lr_model1 = LinearRegression()\n",
    "lr_model1.fit(X_train.loc[:,selected_columns_1],y_train)\n",
    "list(zip(selected_columns_1,lr_model1.coef_))"
   ]
  },
  {
   "cell_type": "code",
   "execution_count": 1000,
   "metadata": {
    "collapsed": false
   },
   "outputs": [
    {
     "data": {
      "text/plain": [
       "<matplotlib.text.Text at 0x1575c8c88>"
      ]
     },
     "execution_count": 1000,
     "metadata": {},
     "output_type": "execute_result"
    },
    {
     "data": {
      "image/png": "[encoded data removed]",
      "text/plain": [
       "<matplotlib.figure.Figure at 0x14ebb54a8>"
      ]
     },
     "metadata": {},
     "output_type": "display_data"
    }
   ],
   "source": [
    "#coefficients are from train data, then check the prediction with test dataset\n",
    "test_set_pred1 = lr_model1.predict(X_test.loc[:,selected_columns_1])\n",
    "plt.scatter(test_set_pred1,y_test,alpha=.1)\n",
    "plt.plot(np.linspace(0,3000000,1000),np.linspace(0,3000000,1000))\n",
    "plt.xlabel('Actual Sold-price')\n",
    "plt.ylabel('Predicted Sold-price')"
   ]
  },
  {
   "cell_type": "code",
   "execution_count": 988,
   "metadata": {
    "collapsed": false
   },
   "outputs": [
    {
     "data": {
      "text/plain": [
       "<matplotlib.text.Text at 0x14eb9f0b8>"
      ]
     },
     "execution_count": 988,
     "metadata": {},
     "output_type": "execute_result"
    },
    {
     "data": {
      "image/png": "[encoded data removed]",
      "text/plain": [
       "<matplotlib.figure.Figure at 0x14ec92390>"
      ]
     },
     "metadata": {},
     "output_type": "display_data"
    }
   ],
   "source": [
    "plt.scatter(y_test, y_test-test_set_pred1,alpha=.1)\n",
    "plt.plot(np.linspace(0,3000000,1000),np.linspace(0,0,1000))\n",
    "plt.xlabel('Actual Sold-price')\n",
    "plt.ylabel('Residuals')"
   ]
  },
  {
   "cell_type": "code",
   "execution_count": 870,
   "metadata": {
    "collapsed": false
   },
   "outputs": [
    {
     "data": {
      "text/plain": [
       "0.69859534164357084"
      ]
     },
     "execution_count": 870,
     "metadata": {},
     "output_type": "execute_result"
    }
   ],
   "source": [
    "lr_model1.score(X_test.loc[:,selected_columns_1],y_test)"
   ]
  },
  {
   "cell_type": "code",
   "execution_count": 871,
   "metadata": {
    "collapsed": false
   },
   "outputs": [
    {
     "data": {
      "text/plain": [
       "177061.12389602861"
      ]
     },
     "execution_count": 871,
     "metadata": {},
     "output_type": "execute_result"
    }
   ],
   "source": [
    "#RMSE\n",
    "np.sqrt(np.mean((test_set_pred1 - y_test)**2))\n",
    "# MAD\n",
    "# (np.mean(np.abs(test_set_pred1 - y_test)))"
   ]
  },
  {
   "cell_type": "code",
   "execution_count": 872,
   "metadata": {
    "collapsed": false
   },
   "outputs": [
    {
     "data": {
      "text/html": [
       "<div>\n",
       "<table border=\"1\" class=\"dataframe\">\n",
       "  <thead>\n",
       "    <tr style=\"text-align: right;\">\n",
       "      <th></th>\n",
       "      <th>zip</th>\n",
       "      <th>bed</th>\n",
       "      <th>bath</th>\n",
       "      <th>sqft</th>\n",
       "      <th>type</th>\n",
       "      <th>year-built</th>\n",
       "      <th>lot</th>\n",
       "      <th>elementary-rate</th>\n",
       "      <th>middle-rate</th>\n",
       "      <th>high-rate</th>\n",
       "      <th>dateordinal</th>\n",
       "      <th>sold-price</th>\n",
       "      <th>last street number</th>\n",
       "    </tr>\n",
       "  </thead>\n",
       "  <tbody>\n",
       "    <tr>\n",
       "      <th>count</th>\n",
       "      <td>1390.000000</td>\n",
       "      <td>1390.000000</td>\n",
       "      <td>1390.000000</td>\n",
       "      <td>1390.000000</td>\n",
       "      <td>1390.000000</td>\n",
       "      <td>1390.000000</td>\n",
       "      <td>1390.000000</td>\n",
       "      <td>1390.000000</td>\n",
       "      <td>1390.000000</td>\n",
       "      <td>1390.000000</td>\n",
       "      <td>1390.000000</td>\n",
       "      <td>1.390000e+03</td>\n",
       "      <td>1390.000000</td>\n",
       "    </tr>\n",
       "    <tr>\n",
       "      <th>mean</th>\n",
       "      <td>1.007914</td>\n",
       "      <td>2.917266</td>\n",
       "      <td>2.002986</td>\n",
       "      <td>1468.795683</td>\n",
       "      <td>2.900000</td>\n",
       "      <td>1965.579137</td>\n",
       "      <td>4521.994964</td>\n",
       "      <td>6.209353</td>\n",
       "      <td>5.818705</td>\n",
       "      <td>7.726619</td>\n",
       "      <td>736185.846763</td>\n",
       "      <td>9.752294e+05</td>\n",
       "      <td>3.956115</td>\n",
       "    </tr>\n",
       "    <tr>\n",
       "      <th>std</th>\n",
       "      <td>0.818660</td>\n",
       "      <td>1.019425</td>\n",
       "      <td>0.754153</td>\n",
       "      <td>555.378158</td>\n",
       "      <td>1.673729</td>\n",
       "      <td>19.520213</td>\n",
       "      <td>3438.097435</td>\n",
       "      <td>2.275812</td>\n",
       "      <td>1.775425</td>\n",
       "      <td>0.948689</td>\n",
       "      <td>234.238442</td>\n",
       "      <td>3.439860e+05</td>\n",
       "      <td>2.965888</td>\n",
       "    </tr>\n",
       "    <tr>\n",
       "      <th>min</th>\n",
       "      <td>0.000000</td>\n",
       "      <td>0.000000</td>\n",
       "      <td>0.000000</td>\n",
       "      <td>440.000000</td>\n",
       "      <td>0.000000</td>\n",
       "      <td>1889.000000</td>\n",
       "      <td>0.000000</td>\n",
       "      <td>2.000000</td>\n",
       "      <td>3.000000</td>\n",
       "      <td>7.000000</td>\n",
       "      <td>735577.000000</td>\n",
       "      <td>2.600000e+05</td>\n",
       "      <td>0.000000</td>\n",
       "    </tr>\n",
       "    <tr>\n",
       "      <th>25%</th>\n",
       "      <td>0.000000</td>\n",
       "      <td>2.000000</td>\n",
       "      <td>1.500000</td>\n",
       "      <td>1089.000000</td>\n",
       "      <td>1.000000</td>\n",
       "      <td>1955.000000</td>\n",
       "      <td>871.000000</td>\n",
       "      <td>6.000000</td>\n",
       "      <td>5.000000</td>\n",
       "      <td>7.000000</td>\n",
       "      <td>736059.250000</td>\n",
       "      <td>7.431250e+05</td>\n",
       "      <td>1.000000</td>\n",
       "    </tr>\n",
       "    <tr>\n",
       "      <th>50%</th>\n",
       "      <td>1.000000</td>\n",
       "      <td>3.000000</td>\n",
       "      <td>2.000000</td>\n",
       "      <td>1387.500000</td>\n",
       "      <td>4.000000</td>\n",
       "      <td>1960.000000</td>\n",
       "      <td>5619.000000</td>\n",
       "      <td>6.000000</td>\n",
       "      <td>6.000000</td>\n",
       "      <td>7.000000</td>\n",
       "      <td>736227.000000</td>\n",
       "      <td>9.600000e+05</td>\n",
       "      <td>4.000000</td>\n",
       "    </tr>\n",
       "    <tr>\n",
       "      <th>75%</th>\n",
       "      <td>2.000000</td>\n",
       "      <td>3.000000</td>\n",
       "      <td>2.500000</td>\n",
       "      <td>1700.000000</td>\n",
       "      <td>4.000000</td>\n",
       "      <td>1976.000000</td>\n",
       "      <td>6669.250000</td>\n",
       "      <td>7.000000</td>\n",
       "      <td>6.000000</td>\n",
       "      <td>9.000000</td>\n",
       "      <td>736387.000000</td>\n",
       "      <td>1.179000e+06</td>\n",
       "      <td>7.000000</td>\n",
       "    </tr>\n",
       "    <tr>\n",
       "      <th>max</th>\n",
       "      <td>2.000000</td>\n",
       "      <td>9.000000</td>\n",
       "      <td>6.000000</td>\n",
       "      <td>7334.000000</td>\n",
       "      <td>5.000000</td>\n",
       "      <td>2016.000000</td>\n",
       "      <td>28749.000000</td>\n",
       "      <td>10.000000</td>\n",
       "      <td>10.000000</td>\n",
       "      <td>10.000000</td>\n",
       "      <td>736524.000000</td>\n",
       "      <td>3.875000e+06</td>\n",
       "      <td>9.000000</td>\n",
       "    </tr>\n",
       "  </tbody>\n",
       "</table>\n",
       "</div>"
      ],
      "text/plain": [
       "               zip          bed         bath         sqft         type  \\\n",
       "count  1390.000000  1390.000000  1390.000000  1390.000000  1390.000000   \n",
       "mean      1.007914     2.917266     2.002986  1468.795683     2.900000   \n",
       "std       0.818660     1.019425     0.754153   555.378158     1.673729   \n",
       "min       0.000000     0.000000     0.000000   440.000000     0.000000   \n",
       "25%       0.000000     2.000000     1.500000  1089.000000     1.000000   \n",
       "50%       1.000000     3.000000     2.000000  1387.500000     4.000000   \n",
       "75%       2.000000     3.000000     2.500000  1700.000000     4.000000   \n",
       "max       2.000000     9.000000     6.000000  7334.000000     5.000000   \n",
       "\n",
       "        year-built           lot  elementary-rate  middle-rate    high-rate  \\\n",
       "count  1390.000000   1390.000000      1390.000000  1390.000000  1390.000000   \n",
       "mean   1965.579137   4521.994964         6.209353     5.818705     7.726619   \n",
       "std      19.520213   3438.097435         2.275812     1.775425     0.948689   \n",
       "min    1889.000000      0.000000         2.000000     3.000000     7.000000   \n",
       "25%    1955.000000    871.000000         6.000000     5.000000     7.000000   \n",
       "50%    1960.000000   5619.000000         6.000000     6.000000     7.000000   \n",
       "75%    1976.000000   6669.250000         7.000000     6.000000     9.000000   \n",
       "max    2016.000000  28749.000000        10.000000    10.000000    10.000000   \n",
       "\n",
       "         dateordinal    sold-price  last street number  \n",
       "count    1390.000000  1.390000e+03         1390.000000  \n",
       "mean   736185.846763  9.752294e+05            3.956115  \n",
       "std       234.238442  3.439860e+05            2.965888  \n",
       "min    735577.000000  2.600000e+05            0.000000  \n",
       "25%    736059.250000  7.431250e+05            1.000000  \n",
       "50%    736227.000000  9.600000e+05            4.000000  \n",
       "75%    736387.000000  1.179000e+06            7.000000  \n",
       "max    736524.000000  3.875000e+06            9.000000  "
      ]
     },
     "execution_count": 872,
     "metadata": {},
     "output_type": "execute_result"
    }
   ],
   "source": [
    "smaller_df.describe()"
   ]
  },
  {
   "cell_type": "markdown",
   "metadata": {},
   "source": [
    "## Random Forest"
   ]
  },
  {
   "cell_type": "code",
   "execution_count": 1005,
   "metadata": {
    "collapsed": false
   },
   "outputs": [],
   "source": [
    "selected_columns_2 = ['bed','bath','sqft','year-built','lot','elementary-rate',\n",
    "                       'dateordinal','type']\n",
    "\n",
    "\n",
    "rfmodel1=RandomForestRegressor(n_estimators = 600, min_samples_leaf=1,  n_jobs=-1, max_features='sqrt') #Your parameters inside the parentheses\n",
    "rfmodel1.fit(X_train.loc[:,selected_columns_2],y_train)\n",
    "rf1_test_pred = rfmodel1.predict(X_test.loc[:,selected_columns_2])"
   ]
  },
  {
   "cell_type": "code",
   "execution_count": 1006,
   "metadata": {
    "collapsed": false
   },
   "outputs": [
    {
     "data": {
      "text/plain": [
       "<matplotlib.text.Text at 0x1577eb2e8>"
      ]
     },
     "execution_count": 1006,
     "metadata": {},
     "output_type": "execute_result"
    },
    {
     "data": {
      "image/png": "[encoded data removed]",
      "text/plain": [
       "<matplotlib.figure.Figure at 0x1517e5588>"
      ]
     },
     "metadata": {},
     "output_type": "display_data"
    }
   ],
   "source": [
    "#Plot actual vs predicted\n",
    "plt.scatter(y_test, rf1_test_pred,alpha=.1)\n",
    "plt.plot(np.linspace(0,3000000,1000),np.linspace(0,3000000,1000))\n",
    "plt.xlabel('Actual Sold-price')\n",
    "plt.ylabel('Predicted Sold-price')\n"
   ]
  },
  {
   "cell_type": "code",
   "execution_count": 985,
   "metadata": {
    "collapsed": false
   },
   "outputs": [
    {
     "data": {
      "text/plain": [
       "<matplotlib.text.Text at 0x15450ab00>"
      ]
     },
     "execution_count": 985,
     "metadata": {},
     "output_type": "execute_result"
    },
    {
     "data": {
      "image/png": "[encoded data removed]",
      "text/plain": [
       "<matplotlib.figure.Figure at 0x1558c50b8>"
      ]
     },
     "metadata": {},
     "output_type": "display_data"
    }
   ],
   "source": [
    "plt.scatter(y_test, y_test-rf1_test_pred,alpha=.1)\n",
    "plt.plot(np.linspace(0,3000000,1000),np.linspace(0,0,1000))\n",
    "plt.xlabel('Actual Sold-price')\n",
    "plt.ylabel('Residuals')"
   ]
  },
  {
   "cell_type": "code",
   "execution_count": 1007,
   "metadata": {
    "collapsed": false
   },
   "outputs": [
    {
     "data": {
      "text/plain": [
       "0.76745615636259301"
      ]
     },
     "execution_count": 1007,
     "metadata": {},
     "output_type": "execute_result"
    }
   ],
   "source": [
    "rfmodel1.score(X_test.loc[:,selected_columns_2],y_test)"
   ]
  },
  {
   "cell_type": "code",
   "execution_count": 1004,
   "metadata": {
    "collapsed": false
   },
   "outputs": [
    {
     "data": {
      "text/plain": [
       "[('sqft', 0.31410987256657147),\n",
       " ('lot', 0.15098477171676788),\n",
       " ('type', 0.12131053793649317),\n",
       " ('bed', 0.10454088212122405),\n",
       " ('year-built', 0.081398992810727766),\n",
       " ('dateordinal', 0.074009406296608862),\n",
       " ('elementary-rate', 0.069918538610933556),\n",
       " ('bath', 0.044056480404961761),\n",
       " ('middle-rate', 0.039670517535711866)]"
      ]
     },
     "execution_count": 1004,
     "metadata": {},
     "output_type": "execute_result"
    }
   ],
   "source": [
    "sorted(list(zip(X_train.loc[:,selected_columns_2].columns,rfmodel1.feature_importances_)), key=lambda x: x[1], reverse=True)"
   ]
  },
  {
   "cell_type": "markdown",
   "metadata": {},
   "source": [
    "## Random permutation of the feature variables to check for whether the features are random noise\n",
    "## Keep all other features fixed, check the feature on the bottom of importance"
   ]
  },
  {
   "cell_type": "code",
   "execution_count": 877,
   "metadata": {
    "collapsed": false
   },
   "outputs": [
    {
     "data": {
      "text/html": [
       "<div>\n",
       "<table border=\"1\" class=\"dataframe\">\n",
       "  <thead>\n",
       "    <tr style=\"text-align: right;\">\n",
       "      <th></th>\n",
       "      <th>zip</th>\n",
       "      <th>bed</th>\n",
       "      <th>bath</th>\n",
       "      <th>sqft</th>\n",
       "      <th>type</th>\n",
       "      <th>year-built</th>\n",
       "      <th>lot</th>\n",
       "      <th>sold-price</th>\n",
       "      <th>elementary-rate</th>\n",
       "      <th>middle-rate</th>\n",
       "      <th>high-rate</th>\n",
       "      <th>dateordinal</th>\n",
       "      <th>last street number</th>\n",
       "    </tr>\n",
       "  </thead>\n",
       "  <tbody>\n",
       "    <tr>\n",
       "      <th>count</th>\n",
       "      <td>1390.000000</td>\n",
       "      <td>1390.000000</td>\n",
       "      <td>1390.000000</td>\n",
       "      <td>1390.000000</td>\n",
       "      <td>1390.000000</td>\n",
       "      <td>1390.000000</td>\n",
       "      <td>1390.000000</td>\n",
       "      <td>1.390000e+03</td>\n",
       "      <td>1390.000000</td>\n",
       "      <td>1390.000000</td>\n",
       "      <td>1390.000000</td>\n",
       "      <td>1390.000000</td>\n",
       "      <td>1390.000000</td>\n",
       "    </tr>\n",
       "    <tr>\n",
       "      <th>mean</th>\n",
       "      <td>1.007914</td>\n",
       "      <td>2.917266</td>\n",
       "      <td>2.002986</td>\n",
       "      <td>1468.795683</td>\n",
       "      <td>2.900000</td>\n",
       "      <td>1965.579137</td>\n",
       "      <td>4521.994964</td>\n",
       "      <td>9.752294e+05</td>\n",
       "      <td>6.209353</td>\n",
       "      <td>5.818705</td>\n",
       "      <td>7.726619</td>\n",
       "      <td>736185.846763</td>\n",
       "      <td>3.956115</td>\n",
       "    </tr>\n",
       "    <tr>\n",
       "      <th>std</th>\n",
       "      <td>0.818660</td>\n",
       "      <td>1.019425</td>\n",
       "      <td>0.754153</td>\n",
       "      <td>555.378158</td>\n",
       "      <td>1.673729</td>\n",
       "      <td>19.520213</td>\n",
       "      <td>3438.097435</td>\n",
       "      <td>3.439860e+05</td>\n",
       "      <td>2.275812</td>\n",
       "      <td>1.775425</td>\n",
       "      <td>0.948689</td>\n",
       "      <td>234.238442</td>\n",
       "      <td>2.965888</td>\n",
       "    </tr>\n",
       "    <tr>\n",
       "      <th>min</th>\n",
       "      <td>0.000000</td>\n",
       "      <td>0.000000</td>\n",
       "      <td>0.000000</td>\n",
       "      <td>440.000000</td>\n",
       "      <td>0.000000</td>\n",
       "      <td>1889.000000</td>\n",
       "      <td>0.000000</td>\n",
       "      <td>2.600000e+05</td>\n",
       "      <td>2.000000</td>\n",
       "      <td>3.000000</td>\n",
       "      <td>7.000000</td>\n",
       "      <td>735577.000000</td>\n",
       "      <td>0.000000</td>\n",
       "    </tr>\n",
       "    <tr>\n",
       "      <th>25%</th>\n",
       "      <td>0.000000</td>\n",
       "      <td>2.000000</td>\n",
       "      <td>1.500000</td>\n",
       "      <td>1089.000000</td>\n",
       "      <td>1.000000</td>\n",
       "      <td>1955.000000</td>\n",
       "      <td>871.000000</td>\n",
       "      <td>7.431250e+05</td>\n",
       "      <td>6.000000</td>\n",
       "      <td>5.000000</td>\n",
       "      <td>7.000000</td>\n",
       "      <td>736059.250000</td>\n",
       "      <td>1.000000</td>\n",
       "    </tr>\n",
       "    <tr>\n",
       "      <th>50%</th>\n",
       "      <td>1.000000</td>\n",
       "      <td>3.000000</td>\n",
       "      <td>2.000000</td>\n",
       "      <td>1387.500000</td>\n",
       "      <td>4.000000</td>\n",
       "      <td>1960.000000</td>\n",
       "      <td>5619.000000</td>\n",
       "      <td>9.600000e+05</td>\n",
       "      <td>6.000000</td>\n",
       "      <td>6.000000</td>\n",
       "      <td>7.000000</td>\n",
       "      <td>736227.000000</td>\n",
       "      <td>4.000000</td>\n",
       "    </tr>\n",
       "    <tr>\n",
       "      <th>75%</th>\n",
       "      <td>2.000000</td>\n",
       "      <td>3.000000</td>\n",
       "      <td>2.500000</td>\n",
       "      <td>1700.000000</td>\n",
       "      <td>4.000000</td>\n",
       "      <td>1976.000000</td>\n",
       "      <td>6669.250000</td>\n",
       "      <td>1.179000e+06</td>\n",
       "      <td>7.000000</td>\n",
       "      <td>6.000000</td>\n",
       "      <td>9.000000</td>\n",
       "      <td>736387.000000</td>\n",
       "      <td>7.000000</td>\n",
       "    </tr>\n",
       "    <tr>\n",
       "      <th>max</th>\n",
       "      <td>2.000000</td>\n",
       "      <td>9.000000</td>\n",
       "      <td>6.000000</td>\n",
       "      <td>7334.000000</td>\n",
       "      <td>5.000000</td>\n",
       "      <td>2016.000000</td>\n",
       "      <td>28749.000000</td>\n",
       "      <td>3.875000e+06</td>\n",
       "      <td>10.000000</td>\n",
       "      <td>10.000000</td>\n",
       "      <td>10.000000</td>\n",
       "      <td>736524.000000</td>\n",
       "      <td>9.000000</td>\n",
       "    </tr>\n",
       "  </tbody>\n",
       "</table>\n",
       "</div>"
      ],
      "text/plain": [
       "               zip          bed         bath         sqft         type  \\\n",
       "count  1390.000000  1390.000000  1390.000000  1390.000000  1390.000000   \n",
       "mean      1.007914     2.917266     2.002986  1468.795683     2.900000   \n",
       "std       0.818660     1.019425     0.754153   555.378158     1.673729   \n",
       "min       0.000000     0.000000     0.000000   440.000000     0.000000   \n",
       "25%       0.000000     2.000000     1.500000  1089.000000     1.000000   \n",
       "50%       1.000000     3.000000     2.000000  1387.500000     4.000000   \n",
       "75%       2.000000     3.000000     2.500000  1700.000000     4.000000   \n",
       "max       2.000000     9.000000     6.000000  7334.000000     5.000000   \n",
       "\n",
       "        year-built           lot    sold-price  elementary-rate  middle-rate  \\\n",
       "count  1390.000000   1390.000000  1.390000e+03      1390.000000  1390.000000   \n",
       "mean   1965.579137   4521.994964  9.752294e+05         6.209353     5.818705   \n",
       "std      19.520213   3438.097435  3.439860e+05         2.275812     1.775425   \n",
       "min    1889.000000      0.000000  2.600000e+05         2.000000     3.000000   \n",
       "25%    1955.000000    871.000000  7.431250e+05         6.000000     5.000000   \n",
       "50%    1960.000000   5619.000000  9.600000e+05         6.000000     6.000000   \n",
       "75%    1976.000000   6669.250000  1.179000e+06         7.000000     6.000000   \n",
       "max    2016.000000  28749.000000  3.875000e+06        10.000000    10.000000   \n",
       "\n",
       "         high-rate    dateordinal  last street number  \n",
       "count  1390.000000    1390.000000         1390.000000  \n",
       "mean      7.726619  736185.846763            3.956115  \n",
       "std       0.948689     234.238442            2.965888  \n",
       "min       7.000000  735577.000000            0.000000  \n",
       "25%       7.000000  736059.250000            1.000000  \n",
       "50%       7.000000  736227.000000            4.000000  \n",
       "75%       9.000000  736387.000000            7.000000  \n",
       "max      10.000000  736524.000000            9.000000  "
      ]
     },
     "execution_count": 877,
     "metadata": {},
     "output_type": "execute_result"
    }
   ],
   "source": [
    "import random\n",
    "df.describe()"
   ]
  },
  {
   "cell_type": "code",
   "execution_count": 878,
   "metadata": {
    "collapsed": false
   },
   "outputs": [],
   "source": [
    "df_random=pd.DataFrame()\n",
    "df_random['sold-price']=df['sold-price']\n",
    "for i in selected_columns_1:\n",
    "    #df_random[i]=np.random.choice(np.arange(min(df[i]),max(df[i])+1),len(df))\n",
    "    df_random[i]=np.random.randint(min(df[i]),max(df[i])+1,len(df))"
   ]
  },
  {
   "cell_type": "code",
   "execution_count": 879,
   "metadata": {
    "collapsed": false
   },
   "outputs": [
    {
     "name": "stdout",
     "output_type": "stream",
     "text": [
      "<class 'pandas.core.frame.DataFrame'>\n",
      "Int64Index: 1390 entries, 1 to 1487\n",
      "Data columns (total 12 columns):\n",
      "sold-price         1390 non-null int64\n",
      "zip                1390 non-null int64\n",
      "bed                1390 non-null int64\n",
      "bath               1390 non-null int64\n",
      "sqft               1390 non-null int64\n",
      "year-built         1390 non-null int64\n",
      "lot                1390 non-null int64\n",
      "elementary-rate    1390 non-null int64\n",
      "middle-rate        1390 non-null int64\n",
      "high-rate          1390 non-null int64\n",
      "dateordinal        1390 non-null int64\n",
      "type               1390 non-null int64\n",
      "dtypes: int64(12)\n",
      "memory usage: 141.2 KB\n"
     ]
    }
   ],
   "source": [
    "df_random.info()"
   ]
  },
  {
   "cell_type": "code",
   "execution_count": 880,
   "metadata": {
    "collapsed": true
   },
   "outputs": [],
   "source": [
    "XR=df.loc[:,['bed','bath','sqft','type','year-built','lot',\n",
    "                     'elementary-rate','middle-rate','high-rate',\n",
    "                     'dateordinal','sold-price']]\n",
    "XR['zipR']=df_random['zip']\n",
    "#yR=df['sold-price']\n",
    "#X_trainR, X_testR, y_trainR, y_testR = train_test_split(XR, yR, test_size=0.3,random_state=42)\n",
    "X_trainR=XR[(smaller_df['last street number']!=5) & (smaller_df['last street number']!=8) &\n",
    "                   (smaller_df['last street number']!=3)].loc[:,['zipR','bed','bath',\n",
    "                                                                 'sqft','type','year-built','lot',\n",
    "                                                                 'elementary-rate','middle-rate', 'high-rate',\n",
    "                                                                 'dateordinal']]\n",
    "y_trainR=XR[(smaller_df['last street number']!=5)& (smaller_df['last street number']!=8)&\n",
    "                   (smaller_df['last street number']!=3)]['sold-price']\n",
    "X_testR=XR[(smaller_df['last street number']==5)| (smaller_df['last street number']==8) |\n",
    "                   (smaller_df['last street number']==3)].loc[:,['zipR','bed','bath',\n",
    "                                                                 'sqft','type','year-built','lot','elementary-rate',\n",
    "                                                                 'middle-rate', 'high-rate','dateordinal']]\n",
    "y_testR=XR[(smaller_df['last street number']==5)| (smaller_df['last street number']==8)|\n",
    "                   (smaller_df['last street number']==3)]['sold-price']\n"
   ]
  },
  {
   "cell_type": "code",
   "execution_count": 881,
   "metadata": {
    "collapsed": false
   },
   "outputs": [
    {
     "name": "stdout",
     "output_type": "stream",
     "text": [
      "<class 'pandas.core.frame.DataFrame'>\n",
      "Int64Index: 981 entries, 3 to 1487\n",
      "Data columns (total 11 columns):\n",
      "zipR               981 non-null int64\n",
      "bed                981 non-null int64\n",
      "bath               981 non-null float64\n",
      "sqft               981 non-null float64\n",
      "type               981 non-null int64\n",
      "year-built         981 non-null float64\n",
      "lot                981 non-null int64\n",
      "elementary-rate    981 non-null int64\n",
      "middle-rate        981 non-null int64\n",
      "high-rate          981 non-null int64\n",
      "dateordinal        981 non-null int64\n",
      "dtypes: float64(3), int64(8)\n",
      "memory usage: 92.0 KB\n"
     ]
    }
   ],
   "source": [
    "X_trainR.info()"
   ]
  },
  {
   "cell_type": "code",
   "execution_count": 972,
   "metadata": {
    "collapsed": false
   },
   "outputs": [],
   "source": [
    "rfmodel_R=RandomForestRegressor(n_estimators = 600, min_samples_leaf=1,  n_jobs=-1, max_features='sqrt') #Your parameters inside the parentheses\n",
    "rfmodel_R.fit(X_trainR,y_trainR)\n",
    "rfR_test_pred = rfmodel_R.predict(X_testR)"
   ]
  },
  {
   "cell_type": "code",
   "execution_count": 971,
   "metadata": {
    "collapsed": false
   },
   "outputs": [
    {
     "data": {
      "text/plain": [
       "0.76672106451810129"
      ]
     },
     "execution_count": 971,
     "metadata": {},
     "output_type": "execute_result"
    }
   ],
   "source": [
    "rfmodel_R.score(X_testR,y_testR)"
   ]
  },
  {
   "cell_type": "code",
   "execution_count": 883,
   "metadata": {
    "collapsed": false
   },
   "outputs": [
    {
     "data": {
      "text/plain": [
       "([('sqft', 0.28368364906249821),\n",
       "  ('lot', 0.15857687122757425),\n",
       "  ('type', 0.10979602024592085),\n",
       "  ('bed', 0.10402129593435246),\n",
       "  ('year-built', 0.0887820521325203),\n",
       "  ('dateordinal', 0.068909278275031863),\n",
       "  ('elementary-rate', 0.062694830052486508),\n",
       "  ('bath', 0.051908437550115261),\n",
       "  ('middle-rate', 0.030441861876049046),\n",
       "  ('high-rate', 0.027734893961000175),\n",
       "  ('zipR', 0.013450809682451279)],\n",
       " [('sqft', 0.28734968817625645),\n",
       "  ('lot', 0.14635994253667808),\n",
       "  ('type', 0.11429006247899028),\n",
       "  ('bed', 0.1116963636820653),\n",
       "  ('year-built', 0.089662585321122243),\n",
       "  ('dateordinal', 0.068128126205442244),\n",
       "  ('elementary-rate', 0.061684044449616865),\n",
       "  ('bath', 0.049089068246875124),\n",
       "  ('middle-rate', 0.030015341902826974),\n",
       "  ('high-rate', 0.027953190524714594),\n",
       "  ('zip', 0.013771586475411955)])"
      ]
     },
     "execution_count": 883,
     "metadata": {},
     "output_type": "execute_result"
    }
   ],
   "source": [
    "sorted(list(zip(X_trainR.columns,rfmodel_R.feature_importances_)), \n",
    "       key=lambda x: x[1], reverse=True),sorted(list(zip(X_train.loc[:,selected_columns_2].columns,rfmodel1.\n",
    "                            feature_importances_)), key=lambda x: x[1], reverse=True)\n",
    "\n"
   ]
  },
  {
   "cell_type": "markdown",
   "metadata": {},
   "source": [
    "## Trying out all regressions, only as guidelines"
   ]
  },
  {
   "cell_type": "code",
   "execution_count": 1008,
   "metadata": {
    "collapsed": false
   },
   "outputs": [
    {
     "name": "stdout",
     "output_type": "stream",
     "text": [
      "Model: linear_model\n",
      "Score: 0.512944257193\n",
      "\n",
      "Model: ridge_model\n",
      "Score: 0.51361651472\n",
      "\n",
      "Model: lasso_model\n",
      "Score: 0.512951568242\n",
      "\n",
      "Model: robust_regression\n",
      "Score: -2.72092244183\n",
      "\n",
      "Model: eps_insensitive\n",
      "Score: -59.0203547058\n",
      "\n",
      "Model: cart\n",
      "Score: 0.554195443439\n",
      "\n",
      "Model: extratrees\n",
      "Score: 0.399145250374\n",
      "\n",
      "Model: randomForest\n",
      "Score: 0.607061243202\n",
      "\n",
      "Model: adaboostedTrees\n",
      "Score: 0.504287187289\n",
      "\n",
      "Model: gradboostedTrees\n",
      "Score: 0.65793806586\n",
      "\n"
     ]
    }
   ],
   "source": [
    "#X,holdoutX,y,holdouty = model_selection.train_test_split(X,y,test_size = .3)\n",
    "X=smaller_df[(smaller_df['last street number']!=5) & (smaller_df['last street number']!=8) &\n",
    "                   (smaller_df['last street number']!=3)].loc[:,['zip','bed','bath',\n",
    "                                                                 'sqft','type','year-built','lot',\n",
    "                                                                 'elementary-rate','middle-rate', 'high-rate',\n",
    "                                                                 'dateordinal']]\n",
    "y=smaller_df[(smaller_df['last street number']!=5)& (smaller_df['last street number']!=8)&\n",
    "                   (smaller_df['last street number']!=3)]['sold-price']\n",
    "holdoutX=smaller_df[(smaller_df['last street number']==5)| (smaller_df['last street number']==8) |\n",
    "                   (smaller_df['last street number']==3)].loc[:,['zip','bed','bath',\n",
    "                                                                 'sqft','type','year-built','lot','elementary-rate',\n",
    "                                                                 'middle-rate', 'high-rate','dateordinal']]\n",
    "holdouty=smaller_df[(smaller_df['last street number']==5)| (smaller_df['last street number']==8)|\n",
    "                   (smaller_df['last street number']==3)]['sold-price']\n",
    "\n",
    "\n",
    "# X=smaller_df[(smaller_df.zip==0) | (smaller_df.zip==2)].loc[:,['zip','bed','bath','sqft','type','year-built','lot',\n",
    "#                      'elementary-rate','middle-rate', 'high-rate',\n",
    "#                      'dateordinal']]\n",
    "# y=smaller_df[(smaller_df.zip==0) | (smaller_df.zip==2)]['sold-price']\n",
    "# holdoutX=smaller_df[smaller_df.zip==1].loc[:,['bed','bath','sqft','type','year-built','lot',\n",
    "#                      'elementary-rate','middle-rate', 'high-rate',\n",
    "#                      'dateordinal']]\n",
    "# holdouty=smaller_df[smaller_df.zip==1]['sold-price']\n",
    "\n",
    "models = {}\n",
    "parameters = {}\n",
    "\n",
    "models['linear_model'] = linear_model.LinearRegression()\n",
    "models['ridge_model'] = linear_model.Ridge()\n",
    "models['lasso_model'] = linear_model.Lasso(alpha=.5)\n",
    "models['robust_regression'] = linear_model.SGDRegressor(loss='huber',n_iter=20)\n",
    "models['eps_insensitive'] = linear_model.SGDRegressor(loss='epsilon_insensitive',n_iter=20)\n",
    "\n",
    "\n",
    "models['cart'] = tree.DecisionTreeRegressor(max_depth=7)\n",
    "models['extratrees'] = tree.ExtraTreeRegressor(max_depth=7)\n",
    "models['randomForest'] = ensemble.RandomForestRegressor()\n",
    "models['adaboostedTrees'] = ensemble.AdaBoostRegressor()\n",
    "models['gradboostedTrees'] = ensemble.GradientBoostingRegressor()\n",
    "\n",
    "\n",
    "for name,model in models.items():\n",
    "    scores = model_selection.cross_val_score(model, X, y, n_jobs=1)\n",
    "    print('Model: '+name)\n",
    "    print(\"Score: \" + str(np.mean(scores)))\n",
    "    print()\n"
   ]
  },
  {
   "cell_type": "markdown",
   "metadata": {},
   "source": [
    "## Gradient Boosting"
   ]
  },
  {
   "cell_type": "code",
   "execution_count": 884,
   "metadata": {
    "collapsed": true
   },
   "outputs": [],
   "source": [
    "from sklearn.ensemble import GradientBoostingRegressor"
   ]
  },
  {
   "cell_type": "code",
   "execution_count": 1013,
   "metadata": {
    "collapsed": false
   },
   "outputs": [
    {
     "data": {
      "text/plain": [
       "0.7458089271352506"
      ]
     },
     "execution_count": 1013,
     "metadata": {},
     "output_type": "execute_result"
    }
   ],
   "source": [
    "gbmodel1=GradientBoostingRegressor(max_features=5,min_samples_leaf=1,\n",
    "                                   max_depth=2, n_estimators=110)\n",
    "gbmodel1.fit(X,y)\n",
    "gb1_test_pred = gbmodel1.predict(holdoutX)\n",
    "gbmodel1.score(holdoutX,holdouty)"
   ]
  },
  {
   "cell_type": "code",
   "execution_count": 1010,
   "metadata": {
    "collapsed": false
   },
   "outputs": [
    {
     "data": {
      "text/plain": [
       "[('sqft', 0.28033540894392334),\n",
       " ('dateordinal', 0.18023761583252898),\n",
       " ('lot', 0.17735352179669017),\n",
       " ('year-built', 0.12695525153987325),\n",
       " ('elementary-rate', 0.075234479677564373),\n",
       " ('bath', 0.045358177781064754),\n",
       " ('zip', 0.036546227870314592),\n",
       " ('bed', 0.031755398992143545),\n",
       " ('type', 0.028638381605034333),\n",
       " ('middle-rate', 0.017585535960862691)]"
      ]
     },
     "execution_count": 1010,
     "metadata": {},
     "output_type": "execute_result"
    }
   ],
   "source": [
    "sorted(list(zip(X.columns,gbmodel1.feature_importances_)), \n",
    "       key=lambda x: x[1], reverse=True)\n"
   ]
  },
  {
   "cell_type": "markdown",
   "metadata": {},
   "source": [
    "## checking overfit of parameters\n"
   ]
  },
  {
   "cell_type": "code",
   "execution_count": 791,
   "metadata": {
    "collapsed": true
   },
   "outputs": [],
   "source": [
    "#keep everything fixed and try a bunch of different values and plot\n",
    "#param_ranges is the hyperparameter and the range to try the parameters over\n",
    "def plot_overfit(X,y,model_obj,param_ranges,param_static=None): \n",
    "    for parameter,parameter_range in param_ranges.items():\n",
    "        avg_train_score, avg_test_score = [],[]\n",
    "        std_train_score, std_test_score = [],[]\n",
    "        \n",
    "        for param_val in parameter_range:\n",
    "            param = {parameter:param_val}\n",
    "            if param_static:\n",
    "                param.update(param_static)\n",
    "            \n",
    "                \n",
    "            model = model_obj(**param)\n",
    "            \n",
    "            train_scores,test_scores = [],[]\n",
    "            for i in range(10):\n",
    "                X_train,X_test,y_train,y_test = model_selection.train_test_split(X,y,test_size = .3)\n",
    "                model.fit(X_train,y_train)\n",
    "                \n",
    "                train_scores.append(model.score(X_train,y_train))\n",
    "                test_scores.append(model.score(X_test,y_test))\n",
    "            \n",
    "            avg_train_score.append(np.mean(train_scores))\n",
    "            avg_test_score.append(np.mean(test_scores))\n",
    "            \n",
    "            std_train_score.append(np.std(train_scores))\n",
    "            std_test_score.append(np.std(test_scores))\n",
    "            \n",
    "        fig,ax = plt.subplots()\n",
    "        ax.errorbar(parameter_range,avg_train_score,yerr=std_train_score,label='training score')\n",
    "        ax.errorbar(parameter_range,avg_test_score,yerr=std_test_score,label='testing score')\n",
    "        \n",
    "        ax.set_xlabel(parameter)\n",
    "        ax.set_ylabel('score')\n",
    "        ax.legend(loc=0)"
   ]
  },
  {
   "cell_type": "code",
   "execution_count": 975,
   "metadata": {
    "collapsed": false
   },
   "outputs": [
    {
     "data": {
      "text/plain": [
       "(None, None, None)"
      ]
     },
     "execution_count": 975,
     "metadata": {},
     "output_type": "execute_result"
    },
    {
     "data": {
      "image/png": "[encoded data removed]",
      "text/plain": [
       "<matplotlib.figure.Figure at 0x13a956978>"
      ]
     },
     "metadata": {},
     "output_type": "display_data"
    },
    {
     "data": {
      "image/png": "[encoded data removed]",
      "text/plain": [
       "<matplotlib.figure.Figure at 0x1569f9cc0>"
      ]
     },
     "metadata": {},
     "output_type": "display_data"
    },
    {
     "data": {
      "image/png": "[encoded data removed]",
      "text/plain": [
       "<matplotlib.figure.Figure at 0x156a4f1d0>"
      ]
     },
     "metadata": {},
     "output_type": "display_data"
    }
   ],
   "source": [
    "plot_overfit(X,y,RandomForestRegressor,{'max_features':range(1,10)}), plot_overfit(X,y,ensemble.GradientBoostingRegressor,{'min_samples_leaf':range(1,10)}),\\\n",
    "plot_overfit(X,y,RandomForestRegressor,{'max_depth':range(1,8)})\n"
   ]
  },
  {
   "cell_type": "code",
   "execution_count": 976,
   "metadata": {
    "collapsed": false
   },
   "outputs": [],
   "source": [
    "# plot_overfit(X,y,ensemble.GradientBoostingRegressor,{'max_features':range(1,10)}), plot_overfit(X,y,ensemble.GradientBoostingRegressor,{'min_samples_leaf':range(1,10)}),\\\n",
    "# plot_overfit(X,y,ensemble.GradientBoostingRegressor,{'max_depth':range(1,8)})\n"
   ]
  },
  {
   "cell_type": "code",
   "execution_count": 838,
   "metadata": {
    "collapsed": false
   },
   "outputs": [
    {
     "data": {
      "text/plain": [
       "(None, None)"
      ]
     },
     "execution_count": 838,
     "metadata": {},
     "output_type": "execute_result"
    },
    {
     "data": {
      "image/png": "[encoded data removed]",
      "text/plain": [
       "<matplotlib.figure.Figure at 0x13abe4e48>"
      ]
     },
     "metadata": {},
     "output_type": "display_data"
    },
    {
     "data": {
      "image/png": "[encoded data removed]",
      "text/plain": [
       "<matplotlib.figure.Figure at 0x145855d68>"
      ]
     },
     "metadata": {},
     "output_type": "display_data"
    },
    {
     "data": {
      "image/png": "[encoded data removed]",
      "text/plain": [
       "<matplotlib.figure.Figure at 0x13ab740b8>"
      ]
     },
     "metadata": {},
     "output_type": "display_data"
    }
   ],
   "source": [
    "model = ensemble.GradientBoostingRegressor\n",
    "params = {'learning_rate':[.01,.1,.2,.5,.75,.9,1,1.25,1.5]}\n",
    "param_static = {'max_depth':2}\n",
    "plot_overfit(X,y,model,params,param_static=param_static)\n",
    "plot_overfit(X,y,ensemble.GradientBoostingRegressor,{'subsample':np.arange(.1,1,.1)}),\\\n",
    "plot_overfit(X,y,ensemble.GradientBoostingRegressor,{'n_estimators':[1,5,10,20,30,50,100,200]},param_static={'learning_rate':.75})\n"
   ]
  },
  {
   "cell_type": "code",
   "execution_count": 835,
   "metadata": {
    "collapsed": false
   },
   "outputs": [
    {
     "data": {
      "text/plain": [
       "(None, None)"
      ]
     },
     "execution_count": 835,
     "metadata": {},
     "output_type": "execute_result"
    },
    {
     "data": {
      "image/png": "[encoded data removed]",
      "text/plain": [
       "<matplotlib.figure.Figure at 0x1468d4358>"
      ]
     },
     "metadata": {},
     "output_type": "display_data"
    },
    {
     "data": {
      "image/png": "[encoded data removed]",
      "text/plain": [
       "<matplotlib.figure.Figure at 0x1468d4710>"
      ]
     },
     "metadata": {},
     "output_type": "display_data"
    }
   ],
   "source": [
    "#testing max_features\n",
    "#max_features=5\n",
    "plot_overfit(X,y,ensemble.GradientBoostingRegressor,{'max_features':range(1,10)})"
   ]
  },
  {
   "cell_type": "code",
   "execution_count": 795,
   "metadata": {
    "collapsed": false
   },
   "outputs": [
    {
     "data": {
      "image/png": "[encoded data removed]",
      "text/plain": [
       "<matplotlib.figure.Figure at 0x13696c208>"
      ]
     },
     "metadata": {},
     "output_type": "display_data"
    }
   ],
   "source": [
    "#testing min_samples_leaf\n",
    "#min_sample_leaf=1\n",
    "plot_overfit(X,y,ensemble.GradientBoostingRegressor,{'min_samples_leaf':range(1,10)})"
   ]
  },
  {
   "cell_type": "code",
   "execution_count": 796,
   "metadata": {
    "collapsed": false
   },
   "outputs": [
    {
     "data": {
      "image/png": "[encoded data removed]",
      "text/plain": [
       "<matplotlib.figure.Figure at 0x1461cc588>"
      ]
     },
     "metadata": {},
     "output_type": "display_data"
    }
   ],
   "source": [
    "plot_overfit(X,y,ensemble.GradientBoostingRegressor,{'max_depth':range(1,8)})\n",
    "#max depth=2"
   ]
  },
  {
   "cell_type": "code",
   "execution_count": 802,
   "metadata": {
    "collapsed": false
   },
   "outputs": [
    {
     "data": {
      "image/png": "[encoded data removed]",
      "text/plain": [
       "<matplotlib.figure.Figure at 0x146490898>"
      ]
     },
     "metadata": {},
     "output_type": "display_data"
    }
   ],
   "source": [
    "#n_estimators=110 which isn't quite consistent with the graph, but have to consider other features\n",
    "plot_overfit(X,y,ensemble.GradientBoostingRegressor,{'n_estimators':[1,5,10,20,30,50,100,200]},param_static={'learning_rate':.75})\n"
   ]
  },
  {
   "cell_type": "code",
   "execution_count": 817,
   "metadata": {
    "collapsed": false
   },
   "outputs": [
    {
     "data": {
      "image/png": "[encoded data removed]",
      "text/plain": [
       "<matplotlib.figure.Figure at 0x1466d90b8>"
      ]
     },
     "metadata": {},
     "output_type": "display_data"
    }
   ],
   "source": [
    "#test learning rates with max_depth fixed\n",
    "#learning-rate=0.1\n",
    "model = ensemble.GradientBoostingRegressor\n",
    "params = {'learning_rate':[.01,.1,.2,.5,.75,.9,1,1.25,1.5]}\n",
    "param_static = {'max_depth':2}\n",
    "plot_overfit(X,y,model,params,param_static=param_static)"
   ]
  },
  {
   "cell_type": "code",
   "execution_count": 823,
   "metadata": {
    "collapsed": false
   },
   "outputs": [
    {
     "data": {
      "image/png": "[encoded data removed]",
      "text/plain": [
       "<matplotlib.figure.Figure at 0x1463cd828>"
      ]
     },
     "metadata": {},
     "output_type": "display_data"
    }
   ],
   "source": [
    "#doesn't matter much\n",
    "plot_overfit(X,y,ensemble.GradientBoostingRegressor,{'subsample':np.arange(.1,1,.1)})"
   ]
  },
  {
   "cell_type": "code",
   "execution_count": 654,
   "metadata": {
    "collapsed": true
   },
   "outputs": [],
   "source": [
    "from sklearn.model_selection import GridSearchCV"
   ]
  },
  {
   "cell_type": "code",
   "execution_count": 824,
   "metadata": {
    "collapsed": false
   },
   "outputs": [
    {
     "name": "stdout",
     "output_type": "stream",
     "text": [
      "Fitting 3 folds for each of 144 candidates, totalling 432 fits\n"
     ]
    },
    {
     "name": "stderr",
     "output_type": "stream",
     "text": [
      "[Parallel(n_jobs=-2)]: Done 386 tasks      | elapsed:    7.2s\n",
      "[Parallel(n_jobs=-2)]: Done 432 out of 432 | elapsed:    8.0s finished\n"
     ]
    },
    {
     "data": {
      "text/plain": [
       "GradientBoostingRegressor(alpha=0.9, criterion='friedman_mse', init=None,\n",
       "             learning_rate=0.089999999999999997, loss='ls', max_depth=2,\n",
       "             max_features=None, max_leaf_nodes=None,\n",
       "             min_impurity_split=1e-07, min_samples_leaf=2,\n",
       "             min_samples_split=2, min_weight_fraction_leaf=0.0,\n",
       "             n_estimators=200, presort='auto', random_state=None,\n",
       "             subsample=1.0, verbose=0, warm_start=False)"
      ]
     },
     "execution_count": 824,
     "metadata": {},
     "output_type": "execute_result"
    }
   ],
   "source": [
    "parameters = {'max_depth':[2,3],\n",
    "              'learning_rate':np.arange(.01,.1,.01),\n",
    "              'n_estimators':[20,50,100,200],\n",
    "             'min_samples_leaf':[1,2]}\n",
    "\n",
    "model = ensemble.GradientBoostingRegressor()\n",
    "grid_search = GridSearchCV(model, parameters, n_jobs=-2, verbose=1)\n",
    "grid_search.fit(X_train,y_train)\n",
    "grid_search.best_estimator_\n",
    "\n"
   ]
  },
  {
   "cell_type": "markdown",
   "metadata": {},
   "source": [
    "## Cross validation Lasso"
   ]
  },
  {
   "cell_type": "code",
   "execution_count": null,
   "metadata": {
    "collapsed": true
   },
   "outputs": [],
   "source": [
    "from sklearn.linear_model import Lasso, Ridge, LassoCV, RidgeCV\n",
    "selected_columns_2 = ['bed','bath','sqft','year-built','rate1','rate2','rate3','type','dateordinal']\n"
   ]
  },
  {
   "cell_type": "code",
   "execution_count": 1015,
   "metadata": {
    "collapsed": false
   },
   "outputs": [
    {
     "data": {
      "text/plain": [
       "array([  1.00000000e-03,   2.89426612e-03,   8.37677640e-03,\n",
       "         2.42446202e-02,   7.01703829e-02,   2.03091762e-01,\n",
       "         5.87801607e-01,   1.70125428e+00,   4.92388263e+00,\n",
       "         1.42510267e+01,   4.12462638e+01,   1.19377664e+02,\n",
       "         3.45510729e+02,   1.00000000e+03,   2.89426612e+03,\n",
       "         8.37677640e+03,   2.42446202e+04,   7.01703829e+04,\n",
       "         2.03091762e+05,   5.87801607e+05,   1.70125428e+06,\n",
       "         4.92388263e+06,   1.42510267e+07,   4.12462638e+07,\n",
       "         1.19377664e+08,   3.45510729e+08,   1.00000000e+09])"
      ]
     },
     "execution_count": 1015,
     "metadata": {},
     "output_type": "execute_result"
    }
   ],
   "source": [
    "#cross validation\n",
    "alphavec = 10**np.linspace(-3,9,27)\n",
    "alphavec\n"
   ]
  },
  {
   "cell_type": "code",
   "execution_count": 1016,
   "metadata": {
    "collapsed": false
   },
   "outputs": [
    {
     "data": {
      "text/plain": [
       "LassoCV(alphas=array([  1.00000e-03,   2.89427e-03,   8.37678e-03,   2.42446e-02,\n",
       "         7.01704e-02,   2.03092e-01,   5.87802e-01,   1.70125e+00,\n",
       "         4.92388e+00,   1.42510e+01,   4.12463e+01,   1.19378e+02,\n",
       "         3.45511e+02,   1.00000e+03,   2.89427e+03,   8.37678e+03,\n",
       "         2.42446e+04,   7.01704e+04,   2.03092e+05,   5.87802e+05,\n",
       "         1.70125e+06,   4.92388e+06,   1.42510e+07,   4.12463e+07,\n",
       "         1.19378e+08,   3.45511e+08,   1.00000e+09]),\n",
       "    copy_X=True, cv=5, eps=0.001, fit_intercept=True, max_iter=1000,\n",
       "    n_alphas=100, n_jobs=1, normalize=False, positive=False,\n",
       "    precompute='auto', random_state=None, selection='cyclic', tol=0.0001,\n",
       "    verbose=False)"
      ]
     },
     "execution_count": 1016,
     "metadata": {},
     "output_type": "execute_result"
    }
   ],
   "source": [
    "lr_model3 = LassoCV(alphas = alphavec, cv=5)\n",
    "lr_model3.fit(X_train.loc[:,selected_columns_2],y_train)\n"
   ]
  },
  {
   "cell_type": "code",
   "execution_count": 1017,
   "metadata": {
    "collapsed": false
   },
   "outputs": [
    {
     "data": {
      "text/plain": [
       "8376.7764006829238"
      ]
     },
     "execution_count": 1017,
     "metadata": {},
     "output_type": "execute_result"
    }
   ],
   "source": [
    "lr_model3.alpha_"
   ]
  },
  {
   "cell_type": "code",
   "execution_count": 577,
   "metadata": {
    "collapsed": false
   },
   "outputs": [
    {
     "data": {
      "text/plain": [
       "[('bed', 72943.569108566386),\n",
       " ('bath', 0.0),\n",
       " ('sqft', 411.0733294279766),\n",
       " ('year-built', -1649.8195508981216),\n",
       " ('lot', 3065.9179927368687),\n",
       " ('rate1', 33649.733183351782),\n",
       " ('rate2', 43052.358126672902),\n",
       " ('rate3', 312.99922693989691)]"
      ]
     },
     "execution_count": 577,
     "metadata": {},
     "output_type": "execute_result"
    }
   ],
   "source": [
    "list(zip(X_train.columns,lr_model3.coef_))"
   ]
  },
  {
   "cell_type": "code",
   "execution_count": 1018,
   "metadata": {
    "collapsed": false
   },
   "outputs": [
    {
     "data": {
      "text/plain": [
       "0.66314894923419399"
      ]
     },
     "execution_count": 1018,
     "metadata": {},
     "output_type": "execute_result"
    }
   ],
   "source": [
    "test_set_pred3 = lr_model3.predict(X_test.loc[:,selected_columns_2])\n",
    "#RMSE\n",
    "np.sqrt(np.mean((test_set_pred3 - y_test)**2))\n",
    "#R-square\n",
    "lr_model3.score(X_test.loc[:,selected_columns_2],y_test)"
   ]
  },
  {
   "cell_type": "code",
   "execution_count": null,
   "metadata": {
    "collapsed": true
   },
   "outputs": [],
   "source": [
    "# #create dummies for house type\n",
    "# df['apartment']=pd.get_dummies(df.type)['Apartment'].values\n",
    "# df['condo']=pd.get_dummies(df.type)['Condo'].values\n",
    "# df['multifamily']=pd.get_dummies(df.type)['Multi Family'].values\n",
    "# df['multioccupancy']=pd.get_dummies(df.type)['Multiple Occupancy'].values\n",
    "# df['singlefamily']=pd.get_dummies(df.type)['Single Family'].values\n",
    "# df['townhouse']=pd.get_dummies(df.type)['Townhouse'].values\n"
   ]
  },
  {
   "cell_type": "code",
   "execution_count": 1022,
   "metadata": {
    "collapsed": false
   },
   "outputs": [
    {
     "data": {
      "text/plain": [
       "array(['Santa Clara High', 'Del Mar High', 'Adrian Wilcox High',\n",
       "       'Abraham Lincoln High', 'Cupertino High', 'Prospect High',\n",
       "       'Westmont High'], dtype=object)"
      ]
     },
     "execution_count": 1022,
     "metadata": {},
     "output_type": "execute_result"
    }
   ],
   "source": [
    "df.high.unique()"
   ]
  },
  {
   "cell_type": "code",
   "execution_count": 1044,
   "metadata": {
    "collapsed": false
   },
   "outputs": [
    {
     "data": {
      "text/plain": [
       "[<matplotlib.text.Text at 0x15d971ef0>,\n",
       " <matplotlib.text.Text at 0x15dd835f8>,\n",
       " <matplotlib.text.Text at 0x15dd0f7f0>,\n",
       " <matplotlib.text.Text at 0x15ddea2e8>]"
      ]
     },
     "execution_count": 1044,
     "metadata": {},
     "output_type": "execute_result"
    },
    {
     "data": {
      "image/png": "[encoded data removed]",
      "text/plain": [
       "<matplotlib.figure.Figure at 0x15dd54128>"
      ]
     },
     "metadata": {},
     "output_type": "display_data"
    }
   ],
   "source": [
    "r=[['OLS','Lasso CV','Gradient Boosted','Random Forest'],[0.697,0.663,0.745,0.767]]\n",
    "fig, ax = plt.subplots()\n",
    "ax.bar(left=[1,2,3,4],height=r[1])\n",
    "ax.set_xticklabels(r[0])"
   ]
  }
 ],
 "metadata": {
  "kernelspec": {
   "display_name": "Python 3",
   "language": "python",
   "name": "python3"
  },
  "language_info": {
   "codemirror_mode": {
    "name": "ipython",
    "version": 3
   },
   "file_extension": ".py",
   "mimetype": "text/x-python",
   "name": "python",
   "nbconvert_exporter": "python",
   "pygments_lexer": "ipython3",
   "version": "3.6.0"
  }
 },
 "nbformat": 4,
 "nbformat_minor": 2
}
